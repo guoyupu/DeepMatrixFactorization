{
 "cells": [
  {
   "cell_type": "code",
   "execution_count": 1,
   "metadata": {},
   "outputs": [
    {
     "name": "stdout",
     "output_type": "stream",
     "text": [
      "Populating the interactive namespace from numpy and matplotlib\n"
     ]
    }
   ],
   "source": [
    "%pylab inline\n",
    "import mxnet as mx\n",
    "import pandas\n",
    "import seaborn; seaborn.set_style('whitegrid')\n",
    "import logging\n",
    "logger = logging.getLogger()\n",
    "logger.setLevel(logging.DEBUG)"
   ]
  },
  {
   "cell_type": "code",
   "execution_count": 2,
   "metadata": {},
   "outputs": [
    {
     "data": {
      "text/html": [
       "<div>\n",
       "<style>\n",
       "    .dataframe thead tr:only-child th {\n",
       "        text-align: right;\n",
       "    }\n",
       "\n",
       "    .dataframe thead th {\n",
       "        text-align: left;\n",
       "    }\n",
       "\n",
       "    .dataframe tbody tr th {\n",
       "        vertical-align: top;\n",
       "    }\n",
       "</style>\n",
       "<table border=\"1\" class=\"dataframe\">\n",
       "  <thead>\n",
       "    <tr style=\"text-align: right;\">\n",
       "      <th></th>\n",
       "      <th>userId</th>\n",
       "      <th>movieId</th>\n",
       "      <th>rating</th>\n",
       "    </tr>\n",
       "  </thead>\n",
       "  <tbody>\n",
       "    <tr>\n",
       "      <th>0</th>\n",
       "      <td>1</td>\n",
       "      <td>2</td>\n",
       "      <td>3.5</td>\n",
       "    </tr>\n",
       "    <tr>\n",
       "      <th>1</th>\n",
       "      <td>1</td>\n",
       "      <td>29</td>\n",
       "      <td>3.5</td>\n",
       "    </tr>\n",
       "    <tr>\n",
       "      <th>2</th>\n",
       "      <td>1</td>\n",
       "      <td>32</td>\n",
       "      <td>3.5</td>\n",
       "    </tr>\n",
       "    <tr>\n",
       "      <th>3</th>\n",
       "      <td>1</td>\n",
       "      <td>47</td>\n",
       "      <td>3.5</td>\n",
       "    </tr>\n",
       "    <tr>\n",
       "      <th>4</th>\n",
       "      <td>1</td>\n",
       "      <td>50</td>\n",
       "      <td>3.5</td>\n",
       "    </tr>\n",
       "  </tbody>\n",
       "</table>\n",
       "</div>"
      ],
      "text/plain": [
       "   userId  movieId  rating\n",
       "0       1        2     3.5\n",
       "1       1       29     3.5\n",
       "2       1       32     3.5\n",
       "3       1       47     3.5\n",
       "4       1       50     3.5"
      ]
     },
     "execution_count": 2,
     "metadata": {},
     "output_type": "execute_result"
    }
   ],
   "source": [
    "data = pandas.read_csv('./ml-20m/ratings.csv', sep=',', usecols=(0, 1, 2))\n",
    "data.head()"
   ]
  },
  {
   "cell_type": "code",
   "execution_count": 3,
   "metadata": {},
   "outputs": [
    {
     "data": {
      "image/png": "[encoded data removed]",
      "text/plain": [
       "<matplotlib.figure.Figure at 0x2027330d748>"
      ]
     },
     "metadata": {},
     "output_type": "display_data"
    }
   ],
   "source": [
    "# Look at the distribution of rating data\n",
    "\n",
    "plt.hist(data['rating'])\n",
    "plt.xlabel(\"Rating\", fontsize=14)\n",
    "plt.ylabel(\"Count\", fontsize=14)\n",
    "plt.title(\"Distribution of Ratings in MovieLens 20M\", fontsize=14)\n",
    "plt.show()"
   ]
  },
  {
   "cell_type": "code",
   "execution_count": 4,
   "metadata": {
    "collapsed": true
   },
   "outputs": [],
   "source": [
    "# It looks like this is fairly normal distribution, with the most ratings being that \n",
    "# a movie was good but not amazing, and the fewest ratings that movies were very poor."
   ]
  },
  {
   "cell_type": "code",
   "execution_count": 5,
   "metadata": {},
   "outputs": [
    {
     "name": "stdout",
     "output_type": "stream",
     "text": [
      "user id min/max:  1 138493\n",
      "# unique users:  138493\n",
      "\n",
      "movie id min/max:  1 131262\n",
      "# unique movies:  26744\n"
     ]
    }
   ],
   "source": [
    "print(\"user id min/max: \", data['userId'].min(), data['userId'].max())\n",
    "print(\"# unique users: \", numpy.unique(data['userId']).shape[0])\n",
    "print(\"\")\n",
    "print(\"movie id min/max: \", data['movieId'].min(), data['movieId'].max())\n",
    "print(\"# unique movies: \", numpy.unique(data['movieId']).shape[0])"
   ]
  },
  {
   "cell_type": "code",
   "execution_count": 6,
   "metadata": {
    "collapsed": true
   },
   "outputs": [],
   "source": [
    "# Based on the above results, let's quickly set these sizes so that later on we can set the embedding layer size appropriately."
   ]
  },
  {
   "cell_type": "code",
   "execution_count": 7,
   "metadata": {
    "collapsed": true
   },
   "outputs": [],
   "source": [
    "n_users, n_movies = 138493, 131262\n",
    "batch_size = 25000"
   ]
  },
  {
   "cell_type": "code",
   "execution_count": 8,
   "metadata": {
    "collapsed": true
   },
   "outputs": [],
   "source": [
    "n = 19000000\n",
    "\n",
    "data = data.sample(frac=1).reset_index(drop=True) # Shuffle the data in place row-wise\n",
    "\n",
    "# Use the first 19M samples to train the model\n",
    "train_users = data['userId'].values[:n] - 1 # Offset by 1 so that the IDs start at 0\n",
    "train_movies = data['movieId'].values[:n] - 1 # Offset by 1 so that the IDs start at 0\n",
    "train_ratings = data['rating'].values[:n]\n",
    "\n",
    "# Use the remaining ~1M samples for validation of the model\n",
    "valid_users = data['userId'].values[n:] - 1 # Offset by 1 so that the IDs start at 0\n",
    "valid_movies = data['movieId'].values[n:] - 1 # Offset by 1 so that the IDs start at 0\n",
    "valid_ratings = data['rating'].values[n:]"
   ]
  },
  {
   "cell_type": "code",
   "execution_count": 9,
   "metadata": {},
   "outputs": [
    {
     "data": {
      "text/plain": [
       "((19000000,), (19000000,), array([ 2. ,  3. ,  3.5, ...,  4. ,  4. ,  5. ]))"
      ]
     },
     "execution_count": 9,
     "metadata": {},
     "output_type": "execute_result"
    }
   ],
   "source": [
    "train_users.shape, train_movies.shape, train_ratings"
   ]
  },
  {
   "cell_type": "code",
   "execution_count": 10,
   "metadata": {},
   "outputs": [
    {
     "data": {
      "text/plain": [
       "((1000263,), (1000263,), (1000263,))"
      ]
     },
     "execution_count": 10,
     "metadata": {},
     "output_type": "execute_result"
    }
   ],
   "source": [
    "valid_users.shape, valid_movies.shape, valid_ratings.shape"
   ]
  },
  {
   "cell_type": "code",
   "execution_count": 11,
   "metadata": {},
   "outputs": [
    {
     "name": "stderr",
     "output_type": "stream",
     "text": [
      "INFO:root:Epoch[0] Batch [250]\tSpeed: 58709.32 samples/sec\trmse=3.354239\n",
      "INFO:root:Epoch[0] Batch [500]\tSpeed: 69498.21 samples/sec\trmse=1.797142\n",
      "INFO:root:Epoch[0] Batch [750]\tSpeed: 70739.72 samples/sec\trmse=1.177943\n",
      "INFO:root:Epoch[0] Train-rmse=1.065552\n",
      "INFO:root:Epoch[0] Time cost=288.899\n",
      "INFO:root:Epoch[0] Validation-rmse=1.061137\n",
      "INFO:root:Epoch[1] Batch [250]\tSpeed: 69708.59 samples/sec\trmse=1.003390\n",
      "INFO:root:Epoch[1] Batch [500]\tSpeed: 70686.03 samples/sec\trmse=0.938862\n",
      "INFO:root:Epoch[1] Batch [750]\tSpeed: 71136.44 samples/sec\trmse=0.907462\n",
      "INFO:root:Epoch[1] Train-rmse=0.898947\n",
      "INFO:root:Epoch[1] Time cost=269.168\n",
      "INFO:root:Epoch[1] Validation-rmse=0.899812\n",
      "INFO:root:Epoch[2] Batch [250]\tSpeed: 69589.65 samples/sec\trmse=0.891166\n",
      "INFO:root:Epoch[2] Batch [500]\tSpeed: 67890.87 samples/sec\trmse=0.883701\n",
      "INFO:root:Epoch[2] Batch [750]\tSpeed: 71209.50 samples/sec\trmse=0.878407\n",
      "INFO:root:Epoch[2] Train-rmse=0.877189\n",
      "INFO:root:Epoch[2] Time cost=272.847\n",
      "INFO:root:Epoch[2] Validation-rmse=0.879015\n",
      "INFO:root:Epoch[3] Batch [250]\tSpeed: 69495.11 samples/sec\trmse=0.874992\n",
      "INFO:root:Epoch[3] Batch [500]\tSpeed: 71131.58 samples/sec\trmse=0.873494\n",
      "INFO:root:Epoch[3] Batch [750]\tSpeed: 71074.86 samples/sec\trmse=0.871734\n",
      "INFO:root:Epoch[3] Train-rmse=0.871430\n",
      "INFO:root:Epoch[3] Time cost=269.014\n",
      "INFO:root:Epoch[3] Validation-rmse=0.873618\n",
      "INFO:root:Epoch[4] Batch [250]\tSpeed: 70985.95 samples/sec\trmse=0.870243\n",
      "INFO:root:Epoch[4] Batch [500]\tSpeed: 68259.93 samples/sec\trmse=0.869838\n",
      "INFO:root:Epoch[4] Batch [750]\tSpeed: 70793.48 samples/sec\trmse=0.868873\n",
      "INFO:root:Epoch[4] Train-rmse=0.868711\n",
      "INFO:root:Epoch[4] Time cost=271.184\n",
      "INFO:root:Epoch[4] Validation-rmse=0.871086\n"
     ]
    }
   ],
   "source": [
    "X_train = mx.io.NDArrayIter({'user': train_users, 'movie': train_movies}, \n",
    "                            label=train_ratings, batch_size=batch_size)\n",
    "X_eval = mx.io.NDArrayIter({'user': valid_users, 'movie': valid_movies}, \n",
    "                           label=valid_ratings, batch_size=batch_size)\n",
    "\n",
    "user = mx.symbol.Variable(\"user\")\n",
    "user = mx.symbol.Embedding(data=user, input_dim=n_users, output_dim=25)\n",
    "\n",
    "movie = mx.symbol.Variable(\"movie\")\n",
    "movie = mx.symbol.Embedding(data=movie, input_dim=n_movies, output_dim=25)\n",
    "\n",
    "y_true = mx.symbol.Variable(\"softmax_label\")\n",
    "y_pred = mx.symbol.sum_axis(data=(user * movie), axis=1)\n",
    "y_pred = mx.symbol.flatten(y_pred)\n",
    "y_pred = mx.symbol.LinearRegressionOutput(data=y_pred, label=y_true)\n",
    "\n",
    "model = mx.module.Module(context=mx.cpu(0), data_names=('user', 'movie'), symbol=y_pred)\n",
    "model.fit(X_train, num_epoch=5, optimizer='adam', optimizer_params=(('learning_rate', 0.001),),\n",
    "          eval_metric='rmse', eval_data=X_eval, batch_end_callback=mx.callback.Speedometer(batch_size, 250))"
   ]
  },
  {
   "cell_type": "code",
   "execution_count": 12,
   "metadata": {
    "collapsed": true
   },
   "outputs": [],
   "source": [
    "# It looks like we're learning something on this dataset! We can see that both the training \n",
    "# and the validation RMSE decrease epoch by epoch."
   ]
  },
  {
   "cell_type": "code",
   "execution_count": 13,
   "metadata": {
    "collapsed": true
   },
   "outputs": [],
   "source": [
    "# Let's now turn to deep matrix factorization"
   ]
  },
  {
   "cell_type": "code",
   "execution_count": 14,
   "metadata": {},
   "outputs": [
    {
     "name": "stderr",
     "output_type": "stream",
     "text": [
      "INFO:root:Epoch[0] Batch [250]\tSpeed: 47058.47 samples/sec\trmse=1.589754\n",
      "INFO:root:Epoch[0] Batch [500]\tSpeed: 46015.12 samples/sec\trmse=0.870415\n",
      "INFO:root:Epoch[0] Batch [750]\tSpeed: 46051.11 samples/sec\trmse=0.862617\n",
      "INFO:root:Epoch[0] Train-rmse=0.859145\n",
      "INFO:root:Epoch[0] Time cost=409.989\n",
      "INFO:root:Epoch[0] Validation-rmse=0.859440\n",
      "INFO:root:Epoch[1] Batch [250]\tSpeed: 46841.25 samples/sec\trmse=0.854610\n",
      "INFO:root:Epoch[1] Batch [500]\tSpeed: 48073.83 samples/sec\trmse=0.847587\n",
      "INFO:root:Epoch[1] Batch [750]\tSpeed: 50262.16 samples/sec\trmse=0.840030\n",
      "INFO:root:Epoch[1] Train-rmse=0.835775\n",
      "INFO:root:Epoch[1] Time cost=392.487\n",
      "INFO:root:Epoch[1] Validation-rmse=0.839420\n",
      "INFO:root:Epoch[2] Batch [250]\tSpeed: 50386.74 samples/sec\trmse=0.833704\n",
      "INFO:root:Epoch[2] Batch [500]\tSpeed: 49800.91 samples/sec\trmse=0.830574\n",
      "INFO:root:Epoch[2] Batch [750]\tSpeed: 50301.05 samples/sec\trmse=0.828005\n",
      "INFO:root:Epoch[2] Train-rmse=0.826103\n",
      "INFO:root:Epoch[2] Time cost=378.531\n",
      "INFO:root:Epoch[2] Validation-rmse=0.832512\n",
      "INFO:root:Epoch[3] Batch [250]\tSpeed: 50577.03 samples/sec\trmse=0.824868\n",
      "INFO:root:Epoch[3] Batch [500]\tSpeed: 50531.57 samples/sec\trmse=0.822292\n",
      "INFO:root:Epoch[3] Batch [750]\tSpeed: 49664.57 samples/sec\trmse=0.819387\n",
      "INFO:root:Epoch[3] Train-rmse=0.815924\n",
      "INFO:root:Epoch[3] Time cost=377.625\n",
      "INFO:root:Epoch[3] Validation-rmse=0.826581\n",
      "INFO:root:Epoch[4] Batch [250]\tSpeed: 50517.25 samples/sec\trmse=0.814661\n",
      "INFO:root:Epoch[4] Batch [500]\tSpeed: 49057.12 samples/sec\trmse=0.811709\n",
      "INFO:root:Epoch[4] Batch [750]\tSpeed: 3570.11 samples/sec\trmse=0.808668\n",
      "INFO:root:Epoch[4] Train-rmse=0.804702\n",
      "INFO:root:Epoch[4] Time cost=2007.144\n",
      "INFO:root:Epoch[4] Validation-rmse=0.825789\n"
     ]
    }
   ],
   "source": [
    "X_train = mx.io.NDArrayIter({'user': train_users, 'movie': train_movies}, \n",
    "                            label=train_ratings, batch_size=batch_size)\n",
    "X_eval = mx.io.NDArrayIter({'user': valid_users, 'movie': valid_movies}, \n",
    "                           label=valid_ratings, batch_size=batch_size)\n",
    "\n",
    "user = mx.symbol.Variable(\"user\")\n",
    "user = mx.symbol.Embedding(data=user, input_dim=n_users, output_dim=25)\n",
    "\n",
    "movie = mx.symbol.Variable(\"movie\")\n",
    "movie = mx.symbol.Embedding(data=movie, input_dim=n_movies, output_dim=25)\n",
    "\n",
    "y_true = mx.symbol.Variable(\"softmax_label\")\n",
    "\n",
    "nn = mx.symbol.concat(user, movie)\n",
    "nn = mx.symbol.flatten(nn)\n",
    "\n",
    "# Since we are using a two layer neural network here, we will create two FullyConnected layers\n",
    "# with activation functions before the output layer\n",
    "\n",
    "nn = mx.symbol.FullyConnected(data=nn, num_hidden=64)\n",
    "nn = mx.symbol.Activation(data=nn, act_type='relu')\n",
    "nn = mx.symbol.FullyConnected(data=nn, num_hidden=64)\n",
    "nn = mx.symbol.Activation(data=nn, act_type='relu')\n",
    "nn = mx.symbol.FullyConnected(data=nn, num_hidden=1)\n",
    "\n",
    "y_pred = mx.symbol.LinearRegressionOutput(data=nn, label=y_true)\n",
    "\n",
    "\n",
    "model = mx.module.Module(context=mx.cpu(0), data_names=('user', 'movie'), symbol=y_pred)\n",
    "model.fit(X_train, num_epoch=5, optimizer='adam', optimizer_params=(('learning_rate', 0.001),),\n",
    "          eval_metric='rmse', eval_data=X_eval, batch_end_callback=mx.callback.Speedometer(batch_size, 250))"
   ]
  },
  {
   "cell_type": "code",
   "execution_count": 15,
   "metadata": {
    "collapsed": true
   },
   "outputs": [],
   "source": [
    "# Looks like we're getting a lower validation rmse after 5 epochs using deep matrix factorization \n",
    "# than with normal matrix factorization! That is a promising start that one could likely build on \n",
    "# by toying with the hyperparameters, activation functions, or structure of the network."
   ]
  },
  {
   "cell_type": "code",
   "execution_count": 16,
   "metadata": {
    "collapsed": true
   },
   "outputs": [],
   "source": [
    "# It is important to keep in mind that we are training a neural network, and so all of the advances in deep learning \n",
    "# can be immediately applied to deep matrix factorization.\n"
   ]
  },
  {
   "cell_type": "code",
   "execution_count": 17,
   "metadata": {},
   "outputs": [
    {
     "name": "stderr",
     "output_type": "stream",
     "text": [
      "INFO:root:Epoch[0] Batch [250]\tSpeed: 18286.83 samples/sec\trmse=1.420668\n",
      "INFO:root:Epoch[0] Batch [500]\tSpeed: 18861.39 samples/sec\trmse=0.857431\n",
      "INFO:root:Epoch[0] Batch [750]\tSpeed: 18886.45 samples/sec\trmse=0.842832\n",
      "INFO:root:Epoch[0] Train-rmse=0.837867\n",
      "INFO:root:Epoch[0] Time cost=1017.050\n",
      "INFO:root:Epoch[0] Validation-rmse=0.838686\n",
      "INFO:root:Epoch[1] Batch [250]\tSpeed: 18970.67 samples/sec\trmse=0.831047\n",
      "INFO:root:Epoch[1] Batch [500]\tSpeed: 18707.10 samples/sec\trmse=0.824250\n",
      "INFO:root:Epoch[1] Batch [750]\tSpeed: 19007.59 samples/sec\trmse=0.819376\n",
      "INFO:root:Epoch[1] Train-rmse=0.815406\n",
      "INFO:root:Epoch[1] Time cost=1004.696\n",
      "INFO:root:Epoch[1] Validation-rmse=0.832841\n",
      "INFO:root:Epoch[2] Batch [250]\tSpeed: 19903.30 samples/sec\trmse=0.806077\n",
      "INFO:root:Epoch[2] Batch [500]\tSpeed: 20618.82 samples/sec\trmse=0.808956\n",
      "INFO:root:Epoch[2] Batch [750]\tSpeed: 1018.90 samples/sec\trmse=0.807139\n",
      "INFO:root:Epoch[2] Train-rmse=0.801061\n",
      "INFO:root:Epoch[2] Time cost=6764.787\n",
      "INFO:root:Epoch[2] Validation-rmse=0.832992\n",
      "INFO:root:Epoch[3] Batch [250]\tSpeed: 17466.07 samples/sec\trmse=0.795005\n",
      "INFO:root:Epoch[3] Batch [500]\tSpeed: 18308.23 samples/sec\trmse=0.801651\n",
      "INFO:root:Epoch[3] Batch [750]\tSpeed: 18416.26 samples/sec\trmse=0.802637\n",
      "INFO:root:Epoch[3] Train-rmse=0.799008\n",
      "INFO:root:Epoch[3] Time cost=1050.675\n",
      "INFO:root:Epoch[3] Validation-rmse=0.830733\n",
      "INFO:root:Epoch[4] Batch [250]\tSpeed: 18982.44 samples/sec\trmse=0.789843\n",
      "INFO:root:Epoch[4] Batch [500]\tSpeed: 19897.40 samples/sec\trmse=0.797278\n",
      "INFO:root:Epoch[4] Batch [750]\tSpeed: 19068.86 samples/sec\trmse=0.797342\n",
      "INFO:root:Epoch[4] Train-rmse=0.792715\n",
      "INFO:root:Epoch[4] Time cost=983.188\n",
      "INFO:root:Epoch[4] Validation-rmse=0.832394\n"
     ]
    }
   ],
   "source": [
    "# A widely used advance was that of batch normalization, which essentially tried to shrink the range of values \n",
    "# that the internal nodes in a network\n",
    "\n",
    "X_train = mx.io.NDArrayIter({'user': train_users, 'movie': train_movies}, \n",
    "                            label=train_ratings, batch_size=batch_size)\n",
    "X_eval = mx.io.NDArrayIter({'user': valid_users, 'movie': valid_movies}, \n",
    "                           label=valid_ratings, batch_size=batch_size)\n",
    "\n",
    "user = mx.symbol.Variable(\"user\")\n",
    "user = mx.symbol.Embedding(data=user, input_dim=n_users, output_dim=25)\n",
    "\n",
    "movie = mx.symbol.Variable(\"movie\")\n",
    "movie = mx.symbol.Embedding(data=movie, input_dim=n_movies, output_dim=25)\n",
    "\n",
    "y_true = mx.symbol.Variable(\"softmax_label\")\n",
    "\n",
    "nn = mx.symbol.concat(user, movie)\n",
    "nn = mx.symbol.flatten(nn)\n",
    "nn = mx.symbol.FullyConnected(data=nn, num_hidden=64)\n",
    "nn = mx.symbol.BatchNorm(data=nn) # First batch norm layer here, before the activaton!\n",
    "nn = mx.symbol.Activation(data=nn, act_type='relu') \n",
    "nn = mx.symbol.FullyConnected(data=nn, num_hidden=64)\n",
    "nn = mx.symbol.BatchNorm(data=nn) # Second batch norm layer here, before the activation!\n",
    "nn = mx.symbol.Activation(data=nn, act_type='relu')\n",
    "nn = mx.symbol.FullyConnected(data=nn, num_hidden=1)\n",
    "\n",
    "y_pred = mx.symbol.LinearRegressionOutput(data=nn, label=y_true)\n",
    "\n",
    "model = mx.module.Module(context=mx.cpu(0), data_names=('user', 'movie'), symbol=y_pred)\n",
    "model.fit(X_train, num_epoch=5, optimizer='adam', optimizer_params=(('learning_rate', 0.001),),\n",
    "          eval_metric='rmse', eval_data=X_eval, batch_end_callback=mx.callback.Speedometer(batch_size, 250))"
   ]
  },
  {
   "cell_type": "code",
   "execution_count": 23,
   "metadata": {},
   "outputs": [
    {
     "data": {
      "image/png": "[encoded data removed]",
      "text/plain": [
       "<matplotlib.figure.Figure at 0x202171712e8>"
      ]
     },
     "metadata": {},
     "output_type": "display_data"
    }
   ],
   "source": [
    "y_pred = model.predict(X_eval).asnumpy().argmax(axis=1)\n",
    "y_pred = (y_pred + 1.) / 2\n",
    "\n",
    "plt.title(\"Distribution of Predictions\", fontsize=14)\n",
    "plt.ylabel(\"Count\", fontsize=14)\n",
    "plt.xlabel(\"Rating\", fontsize=14)\n",
    "plt.hist(y_pred)\n",
    "plt.show()"
   ]
  },
  {
   "cell_type": "code",
   "execution_count": 18,
   "metadata": {
    "collapsed": true
   },
   "outputs": [],
   "source": [
    "# An alternate approach to this model is to consider the problem a classification problem instead of a regression problem."
   ]
  },
  {
   "cell_type": "code",
   "execution_count": 19,
   "metadata": {
    "collapsed": true
   },
   "outputs": [],
   "source": [
    "# The network needs only be modified to have 10 hidden units in the final layer, since it is now a 10 class problem, \n",
    "# and to use the softmax output designed for classification problems instead of the linear regression output designed \n",
    "# for regression problems."
   ]
  },
  {
   "cell_type": "code",
   "execution_count": 20,
   "metadata": {},
   "outputs": [
    {
     "name": "stderr",
     "output_type": "stream",
     "text": [
      "INFO:root:Epoch[0] Batch [250]\tSpeed: 43487.78 samples/sec\taccuracy=0.278124\n",
      "INFO:root:Epoch[0] Batch [500]\tSpeed: 44067.85 samples/sec\taccuracy=0.313752\n",
      "INFO:root:Epoch[0] Batch [750]\tSpeed: 44340.24 samples/sec\taccuracy=0.360259\n",
      "INFO:root:Epoch[0] Train-accuracy=0.370711\n",
      "INFO:root:Epoch[0] Time cost=432.479\n",
      "INFO:root:Epoch[0] Validation-accuracy=0.371712\n",
      "INFO:root:Epoch[1] Batch [250]\tSpeed: 44983.28 samples/sec\taccuracy=0.375171\n",
      "INFO:root:Epoch[1] Batch [500]\tSpeed: 44311.91 samples/sec\taccuracy=0.381417\n",
      "INFO:root:Epoch[1] Batch [750]\tSpeed: 44216.15 samples/sec\taccuracy=0.387433\n",
      "INFO:root:Epoch[1] Train-accuracy=0.390147\n",
      "INFO:root:Epoch[1] Time cost=426.554\n",
      "INFO:root:Epoch[1] Validation-accuracy=0.387334\n",
      "INFO:root:Epoch[2] Batch [250]\tSpeed: 45064.81 samples/sec\taccuracy=0.391359\n",
      "INFO:root:Epoch[2] Batch [500]\tSpeed: 44725.70 samples/sec\taccuracy=0.393562\n",
      "INFO:root:Epoch[2] Batch [750]\tSpeed: 44787.97 samples/sec\taccuracy=0.396111\n",
      "INFO:root:Epoch[2] Train-accuracy=0.397804\n",
      "INFO:root:Epoch[2] Time cost=423.436\n",
      "INFO:root:Epoch[2] Validation-accuracy=0.391946\n",
      "INFO:root:Epoch[3] Batch [250]\tSpeed: 44960.92 samples/sec\taccuracy=0.398940\n",
      "INFO:root:Epoch[3] Batch [500]\tSpeed: 43725.44 samples/sec\taccuracy=0.400763\n",
      "INFO:root:Epoch[3] Batch [750]\tSpeed: 45273.39 samples/sec\taccuracy=0.403880\n",
      "INFO:root:Epoch[3] Train-accuracy=0.403551\n",
      "INFO:root:Epoch[3] Time cost=425.224\n",
      "INFO:root:Epoch[3] Validation-accuracy=0.395042\n",
      "INFO:root:Epoch[4] Batch [250]\tSpeed: 43436.02 samples/sec\taccuracy=0.405742\n",
      "INFO:root:Epoch[4] Batch [500]\tSpeed: 45064.81 samples/sec\taccuracy=0.407074\n",
      "INFO:root:Epoch[4] Batch [750]\tSpeed: 44069.09 samples/sec\taccuracy=0.409540\n",
      "INFO:root:Epoch[4] Train-accuracy=0.409556\n",
      "INFO:root:Epoch[4] Time cost=429.617\n",
      "INFO:root:Epoch[4] Validation-accuracy=0.395724\n"
     ]
    }
   ],
   "source": [
    "X_train = mx.io.NDArrayIter({'user': train_users, 'movie': train_movies}, \n",
    "                            label=train_ratings*2-1, batch_size=batch_size)\n",
    "X_eval = mx.io.NDArrayIter({'user': valid_users, 'movie': valid_movies}, \n",
    "                           label=valid_ratings*2-1, batch_size=batch_size)\n",
    "\n",
    "user = mx.symbol.Variable(\"user\")\n",
    "user = mx.symbol.Embedding(data=user, input_dim=n_users, output_dim=25)\n",
    "\n",
    "movie = mx.symbol.Variable(\"movie\")\n",
    "movie = mx.symbol.Embedding(data=movie, input_dim=n_movies, output_dim=25)\n",
    "\n",
    "y_true = mx.symbol.Variable(\"softmax_label\")\n",
    "\n",
    "nn = mx.symbol.concat(user, movie)\n",
    "nn = mx.symbol.flatten(nn)\n",
    "nn = mx.symbol.FullyConnected(data=nn, num_hidden=64)\n",
    "nn = mx.symbol.Activation(data=nn, act_type='relu')\n",
    "nn = mx.symbol.FullyConnected(data=nn, num_hidden=64)\n",
    "nn = mx.symbol.Activation(data=nn, act_type='relu')\n",
    "nn = mx.symbol.FullyConnected(data=nn, num_hidden=10) # 10 hidden units because 10 classes\n",
    "\n",
    "#y_pred = mx.symbol.LinearRegressionOutput(data=nn, label=y_true)\n",
    "# SoftmaxOutput instead of LinearRegressionOutput because this is a classification problem now\n",
    "# and we want to use a classification loss function instead of a regression loss function\n",
    "y_pred = mx.symbol.SoftmaxOutput(data=nn, label=y_true)\n",
    "\n",
    "model = mx.module.Module(context=mx.cpu(0), data_names=('user', 'movie'), symbol=y_pred)\n",
    "model.fit(X_train, num_epoch=5, optimizer='adam', optimizer_params=(('learning_rate', 0.001),),\n",
    "          eval_metric='acc', eval_data=X_eval, batch_end_callback=mx.callback.Speedometer(batch_size, 250))"
   ]
  },
  {
   "cell_type": "code",
   "execution_count": 21,
   "metadata": {},
   "outputs": [
    {
     "data": {
      "image/png": "[encoded data removed]",
      "text/plain": [
       "<matplotlib.figure.Figure at 0x2020b9cc7b8>"
      ]
     },
     "metadata": {},
     "output_type": "display_data"
    }
   ],
   "source": [
    "y_pred = model.predict(X_eval).asnumpy().argmax(axis=1)\n",
    "y_pred = (y_pred + 1.) / 2\n",
    "\n",
    "plt.title(\"Distribution of Predictions\", fontsize=14)\n",
    "plt.ylabel(\"Count\", fontsize=14)\n",
    "plt.xlabel(\"Rating\", fontsize=14)\n",
    "plt.hist(y_pred)\n",
    "plt.show()"
   ]
  },
  {
   "cell_type": "code",
   "execution_count": 22,
   "metadata": {
    "collapsed": true
   },
   "outputs": [],
   "source": [
    "# Structural Regularization in Deep Matrix Factorization"
   ]
  },
  {
   "cell_type": "code",
   "execution_count": 24,
   "metadata": {
    "collapsed": true
   },
   "outputs": [],
   "source": [
    "# It appears that this methid does not work that well compared to optimizing the RMSE directly for this specific dataset. \n",
    "# However, this opens the door to using MXNet to solve all types of matrix completion problems that have categories\n",
    "# that need to be predicted instead of real values."
   ]
  },
  {
   "cell_type": "code",
   "execution_count": 25,
   "metadata": {
    "collapsed": true
   },
   "outputs": [],
   "source": [
    "# By changing the number of user factors from 25 to 15 we can reduce the number of parameters by 1.38 million \n",
    "# while not losing any expressivity on the movie side. The only change is changing the value of output_dim \n",
    "# in the user embedding layer."
   ]
  },
  {
   "cell_type": "code",
   "execution_count": 27,
   "metadata": {},
   "outputs": [
    {
     "name": "stderr",
     "output_type": "stream",
     "text": [
      "INFO:root:Epoch[0] Batch [250]\tSpeed: 47806.84 samples/sec\trmse=1.531881\n",
      "INFO:root:Epoch[0] Batch [500]\tSpeed: 47132.75 samples/sec\trmse=0.870055\n",
      "INFO:root:Epoch[0] Batch [750]\tSpeed: 49274.98 samples/sec\trmse=0.862605\n",
      "INFO:root:Epoch[0] Train-rmse=0.860803\n",
      "INFO:root:Epoch[0] Time cost=395.542\n",
      "INFO:root:Epoch[0] Validation-rmse=0.861108\n",
      "INFO:root:Epoch[1] Batch [250]\tSpeed: 49768.74 samples/sec\trmse=0.858528\n",
      "INFO:root:Epoch[1] Batch [500]\tSpeed: 49261.96 samples/sec\trmse=0.851822\n",
      "INFO:root:Epoch[1] Batch [750]\tSpeed: 49538.81 samples/sec\trmse=0.840869\n",
      "INFO:root:Epoch[1] Train-rmse=0.836234\n",
      "INFO:root:Epoch[1] Time cost=383.325\n",
      "INFO:root:Epoch[1] Validation-rmse=0.839120\n",
      "INFO:root:Epoch[2] Batch [250]\tSpeed: 48939.78 samples/sec\trmse=0.833968\n",
      "INFO:root:Epoch[2] Batch [500]\tSpeed: 53983.83 samples/sec\trmse=0.830211\n",
      "INFO:root:Epoch[2] Batch [750]\tSpeed: 52210.29 samples/sec\trmse=0.826997\n",
      "INFO:root:Epoch[2] Train-rmse=0.824456\n",
      "INFO:root:Epoch[2] Time cost=368.643\n",
      "INFO:root:Epoch[2] Validation-rmse=0.830975\n",
      "INFO:root:Epoch[3] Batch [250]\tSpeed: 53807.89 samples/sec\trmse=0.822524\n",
      "INFO:root:Epoch[3] Batch [500]\tSpeed: 54237.18 samples/sec\trmse=0.819066\n",
      "INFO:root:Epoch[3] Batch [750]\tSpeed: 53757.84 samples/sec\trmse=0.815570\n",
      "INFO:root:Epoch[3] Train-rmse=0.812452\n",
      "INFO:root:Epoch[3] Time cost=352.143\n",
      "INFO:root:Epoch[3] Validation-rmse=0.823555\n",
      "INFO:root:Epoch[4] Batch [250]\tSpeed: 53077.06 samples/sec\trmse=0.811668\n",
      "INFO:root:Epoch[4] Batch [500]\tSpeed: 53364.35 samples/sec\trmse=0.809725\n",
      "INFO:root:Epoch[4] Batch [750]\tSpeed: 53334.71 samples/sec\trmse=0.806737\n",
      "INFO:root:Epoch[4] Train-rmse=0.802205\n",
      "INFO:root:Epoch[4] Time cost=356.339\n",
      "INFO:root:Epoch[4] Validation-rmse=0.825019\n"
     ]
    }
   ],
   "source": [
    "X_train = mx.io.NDArrayIter({'user': train_users, 'movie': train_movies}, \n",
    "                            label=train_ratings, batch_size=batch_size)\n",
    "X_eval = mx.io.NDArrayIter({'user': valid_users, 'movie': valid_movies}, \n",
    "                           label=valid_ratings, batch_size=batch_size)\n",
    "\n",
    "user = mx.symbol.Variable(\"user\")\n",
    "user = mx.symbol.Embedding(data=user, input_dim=n_users, output_dim=15) # Using 15 instead of 25 here\n",
    "\n",
    "movie = mx.symbol.Variable(\"movie\")\n",
    "movie = mx.symbol.Embedding(data=movie, input_dim=n_movies, output_dim=25)\n",
    "\n",
    "y_true = mx.symbol.Variable(\"softmax_label\")\n",
    "\n",
    "nn = mx.symbol.concat(user, movie)\n",
    "nn = mx.symbol.flatten(nn)\n",
    "nn = mx.symbol.FullyConnected(data=nn, num_hidden=64)\n",
    "nn = mx.symbol.Activation(data=nn, act_type='relu') \n",
    "nn = mx.symbol.FullyConnected(data=nn, num_hidden=64)\n",
    "nn = mx.symbol.Activation(data=nn, act_type='relu')\n",
    "nn = mx.symbol.FullyConnected(data=nn, num_hidden=1)\n",
    "\n",
    "y_pred = mx.symbol.LinearRegressionOutput(data=nn, label=y_true)\n",
    "\n",
    "model = mx.module.Module(context=mx.cpu(0), data_names=('user', 'movie'), symbol=y_pred)\n",
    "model.fit(X_train, num_epoch=5, optimizer='adam', optimizer_params=(('learning_rate', 0.001),),\n",
    "          eval_metric='rmse', eval_data=X_eval, batch_end_callback=mx.callback.Speedometer(batch_size, 250))"
   ]
  },
  {
   "cell_type": "code",
   "execution_count": 28,
   "metadata": {
    "collapsed": true
   },
   "outputs": [],
   "source": [
    "# Next, we can extend matrix factorization past using only two embedding layers. \n",
    "# The MovieLens dataset comes with genres for each of the films. Presumably genre is one of the major aspects \n",
    "# that would be learned by the movie embedding layer already, so explicitly including that information can be beneficial."
   ]
  },
  {
   "cell_type": "code",
   "execution_count": 29,
   "metadata": {},
   "outputs": [
    {
     "data": {
      "text/html": [
       "<div>\n",
       "<style>\n",
       "    .dataframe thead tr:only-child th {\n",
       "        text-align: right;\n",
       "    }\n",
       "\n",
       "    .dataframe thead th {\n",
       "        text-align: left;\n",
       "    }\n",
       "\n",
       "    .dataframe tbody tr th {\n",
       "        vertical-align: top;\n",
       "    }\n",
       "</style>\n",
       "<table border=\"1\" class=\"dataframe\">\n",
       "  <thead>\n",
       "    <tr style=\"text-align: right;\">\n",
       "      <th></th>\n",
       "      <th>movieId</th>\n",
       "      <th>title</th>\n",
       "      <th>genres</th>\n",
       "    </tr>\n",
       "  </thead>\n",
       "  <tbody>\n",
       "    <tr>\n",
       "      <th>0</th>\n",
       "      <td>1</td>\n",
       "      <td>Toy Story (1995)</td>\n",
       "      <td>Adventure|Animation|Children|Comedy|Fantasy</td>\n",
       "    </tr>\n",
       "    <tr>\n",
       "      <th>1</th>\n",
       "      <td>2</td>\n",
       "      <td>Jumanji (1995)</td>\n",
       "      <td>Adventure|Children|Fantasy</td>\n",
       "    </tr>\n",
       "    <tr>\n",
       "      <th>2</th>\n",
       "      <td>3</td>\n",
       "      <td>Grumpier Old Men (1995)</td>\n",
       "      <td>Comedy|Romance</td>\n",
       "    </tr>\n",
       "    <tr>\n",
       "      <th>3</th>\n",
       "      <td>4</td>\n",
       "      <td>Waiting to Exhale (1995)</td>\n",
       "      <td>Comedy|Drama|Romance</td>\n",
       "    </tr>\n",
       "    <tr>\n",
       "      <th>4</th>\n",
       "      <td>5</td>\n",
       "      <td>Father of the Bride Part II (1995)</td>\n",
       "      <td>Comedy</td>\n",
       "    </tr>\n",
       "  </tbody>\n",
       "</table>\n",
       "</div>"
      ],
      "text/plain": [
       "   movieId                               title  \\\n",
       "0        1                    Toy Story (1995)   \n",
       "1        2                      Jumanji (1995)   \n",
       "2        3             Grumpier Old Men (1995)   \n",
       "3        4            Waiting to Exhale (1995)   \n",
       "4        5  Father of the Bride Part II (1995)   \n",
       "\n",
       "                                        genres  \n",
       "0  Adventure|Animation|Children|Comedy|Fantasy  \n",
       "1                   Adventure|Children|Fantasy  \n",
       "2                               Comedy|Romance  \n",
       "3                         Comedy|Drama|Romance  \n",
       "4                                       Comedy  "
      ]
     },
     "execution_count": 29,
     "metadata": {},
     "output_type": "execute_result"
    }
   ],
   "source": [
    "genres = pandas.read_csv('./ml-20m/movies.csv')\n",
    "genres.head()"
   ]
  },
  {
   "cell_type": "code",
   "execution_count": 30,
   "metadata": {},
   "outputs": [
    {
     "data": {
      "text/plain": [
       "{'(no genres listed)': 0,\n",
       " 'Action': 1,\n",
       " 'Adventure': 2,\n",
       " 'Animation': 3,\n",
       " 'Children': 4,\n",
       " 'Comedy': 5,\n",
       " 'Crime': 6,\n",
       " 'Documentary': 7,\n",
       " 'Drama': 8,\n",
       " 'Fantasy': 9,\n",
       " 'Film-Noir': 10,\n",
       " 'Horror': 11,\n",
       " 'IMAX': 12,\n",
       " 'Musical': 13,\n",
       " 'Mystery': 14,\n",
       " 'Romance': 15,\n",
       " 'Sci-Fi': 16,\n",
       " 'Thriller': 17,\n",
       " 'War': 18,\n",
       " 'Western': 19}"
      ]
     },
     "execution_count": 30,
     "metadata": {},
     "output_type": "execute_result"
    }
   ],
   "source": [
    "labels_str = [label.split(\"|\")[0] for label in genres['genres']]\n",
    "label_set = numpy.unique(labels_str)\n",
    "label_idxs = {l: i for i, l in enumerate(label_set)}\n",
    "label_idxs"
   ]
  },
  {
   "cell_type": "code",
   "execution_count": 31,
   "metadata": {},
   "outputs": [
    {
     "data": {
      "text/plain": [
       "array([  8.,   6.,   6.,   8.,   1.,  10.,   1.,  11.,   8.,  11.])"
      ]
     },
     "execution_count": 31,
     "metadata": {},
     "output_type": "execute_result"
    }
   ],
   "source": [
    "labels = numpy.empty(n_movies)\n",
    "for movieId, label in zip(genres['movieId'], labels_str):\n",
    "    labels[movieId-1] = label_idxs[label]\n",
    "\n",
    "train_genres = numpy.array([labels[int(j)] for j in train_movies])\n",
    "valid_genres = numpy.array([labels[int(j)] for j in valid_movies])\n",
    "train_genres[:10]"
   ]
  },
  {
   "cell_type": "code",
   "execution_count": 33,
   "metadata": {},
   "outputs": [
    {
     "name": "stderr",
     "output_type": "stream",
     "text": [
      "INFO:root:Epoch[0] Batch [250]\tSpeed: 43234.11 samples/sec\trmse=1.551715\n",
      "INFO:root:Epoch[0] Batch [500]\tSpeed: 42929.87 samples/sec\trmse=0.869840\n",
      "INFO:root:Epoch[0] Batch [750]\tSpeed: 43106.30 samples/sec\trmse=0.862559\n",
      "INFO:root:Epoch[0] Train-rmse=0.860810\n",
      "INFO:root:Epoch[0] Time cost=441.004\n",
      "INFO:root:Epoch[0] Validation-rmse=0.861121\n",
      "INFO:root:Epoch[1] Batch [250]\tSpeed: 43035.55 samples/sec\trmse=0.858501\n",
      "INFO:root:Epoch[1] Batch [500]\tSpeed: 46424.86 samples/sec\trmse=0.851766\n",
      "INFO:root:Epoch[1] Batch [750]\tSpeed: 46640.66 samples/sec\trmse=0.843579\n",
      "INFO:root:Epoch[1] Train-rmse=0.839363\n",
      "INFO:root:Epoch[1] Time cost=419.841\n",
      "INFO:root:Epoch[1] Validation-rmse=0.842081\n",
      "INFO:root:Epoch[2] Batch [250]\tSpeed: 46797.35 samples/sec\trmse=0.836849\n",
      "INFO:root:Epoch[2] Batch [500]\tSpeed: 46948.03 samples/sec\trmse=0.832471\n",
      "INFO:root:Epoch[2] Batch [750]\tSpeed: 46355.20 samples/sec\trmse=0.830100\n",
      "INFO:root:Epoch[2] Train-rmse=0.828022\n",
      "INFO:root:Epoch[2] Time cost=406.621\n",
      "INFO:root:Epoch[2] Validation-rmse=0.834031\n",
      "INFO:root:Epoch[3] Batch [250]\tSpeed: 46865.52 samples/sec\trmse=0.827529\n",
      "INFO:root:Epoch[3] Batch [500]\tSpeed: 46642.41 samples/sec\trmse=0.825917\n",
      "INFO:root:Epoch[3] Batch [750]\tSpeed: 46860.95 samples/sec\trmse=0.824695\n",
      "INFO:root:Epoch[3] Train-rmse=0.822941\n",
      "INFO:root:Epoch[3] Time cost=405.629\n",
      "INFO:root:Epoch[3] Validation-rmse=0.831522\n",
      "INFO:root:Epoch[4] Batch [250]\tSpeed: 46299.49 samples/sec\trmse=0.822383\n",
      "INFO:root:Epoch[4] Batch [500]\tSpeed: 1344.64 samples/sec\trmse=0.819733\n",
      "INFO:root:Epoch[4] Batch [750]\tSpeed: 41300.54 samples/sec\trmse=0.816945\n",
      "INFO:root:Epoch[4] Train-rmse=0.813611\n",
      "INFO:root:Epoch[4] Time cost=4940.060\n",
      "INFO:root:Epoch[4] Validation-rmse=0.827932\n"
     ]
    }
   ],
   "source": [
    "X_train = mx.io.NDArrayIter({'user': train_users, 'movie': train_movies, 'movie_genre': train_genres}, \n",
    "                            label=train_ratings, batch_size=batch_size)\n",
    "X_eval = mx.io.NDArrayIter({'user': valid_users, 'movie': valid_movies, 'movie_genre': valid_genres}, \n",
    "                           label=valid_ratings, batch_size=batch_size)\n",
    "\n",
    "user = mx.symbol.Variable(\"user\")\n",
    "user = mx.symbol.Embedding(data=user, input_dim=n_users, output_dim=15)\n",
    "\n",
    "movie = mx.symbol.Variable(\"movie\")\n",
    "movie = mx.symbol.Embedding(data=movie, input_dim=n_movies, output_dim=20) # Reduce from 25 to 20\n",
    "\n",
    "# We need to add in a third embedding layer for genre\n",
    "movie_genre = mx.symbol.Variable(\"movie_genre\")\n",
    "movie_genre = mx.symbol.Embedding(data=movie_genre, input_dim=20, output_dim=5) # Set to 5\n",
    "\n",
    "y_true = mx.symbol.Variable(\"softmax_label\")\n",
    "\n",
    "nn = mx.symbol.concat(user, movie, movie_genre)\n",
    "nn = mx.symbol.flatten(nn)\n",
    "nn = mx.symbol.FullyConnected(data=nn, num_hidden=64)\n",
    "nn = mx.symbol.Activation(data=nn, act_type='relu')\n",
    "nn = mx.symbol.FullyConnected(data=nn, num_hidden=64)\n",
    "nn = mx.symbol.Activation(data=nn, act_type='relu')\n",
    "nn = mx.symbol.FullyConnected(data=nn, num_hidden=1)\n",
    "\n",
    "y_pred = mx.symbol.LinearRegressionOutput(data=nn, label=y_true)\n",
    "\n",
    "model = mx.module.Module(context=mx.cpu(0), data_names=('user', 'movie', 'movie_genre'), symbol=y_pred)\n",
    "model.fit(X_train, num_epoch=5, optimizer='adam', optimizer_params=(('learning_rate', 0.001),),\n",
    "          eval_metric='rmse', eval_data=X_eval, batch_end_callback=mx.callback.Speedometer(batch_size, 250))"
   ]
  },
  {
   "cell_type": "code",
   "execution_count": null,
   "metadata": {
    "collapsed": true
   },
   "outputs": [],
   "source": []
  }
 ],
 "metadata": {
  "kernelspec": {
   "display_name": "Python 3",
   "language": "python",
   "name": "python3"
  },
  "language_info": {
   "codemirror_mode": {
    "name": "ipython",
    "version": 3
   },
   "file_extension": ".py",
   "mimetype": "text/x-python",
   "name": "python",
   "nbconvert_exporter": "python",
   "pygments_lexer": "ipython3",
   "version": "3.6.1"
  }
 },
 "nbformat": 4,
 "nbformat_minor": 2
}
